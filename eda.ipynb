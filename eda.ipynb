{
 "cells": [
  {
   "cell_type": "code",
   "execution_count": 2,
   "metadata": {},
   "outputs": [],
   "source": [
    "import pandas as pd"
   ]
  },
  {
   "cell_type": "code",
   "execution_count": 3,
   "metadata": {},
   "outputs": [],
   "source": [
    "df = pd.read_csv(\"data/cnn_dailymail/train.csv\")"
   ]
  },
  {
   "cell_type": "code",
   "execution_count": 4,
   "metadata": {},
   "outputs": [
    {
     "data": {
      "text/html": [
       "<div>\n",
       "<style scoped>\n",
       "    .dataframe tbody tr th:only-of-type {\n",
       "        vertical-align: middle;\n",
       "    }\n",
       "\n",
       "    .dataframe tbody tr th {\n",
       "        vertical-align: top;\n",
       "    }\n",
       "\n",
       "    .dataframe thead th {\n",
       "        text-align: right;\n",
       "    }\n",
       "</style>\n",
       "<table border=\"1\" class=\"dataframe\">\n",
       "  <thead>\n",
       "    <tr style=\"text-align: right;\">\n",
       "      <th></th>\n",
       "      <th>id</th>\n",
       "      <th>article</th>\n",
       "      <th>highlights</th>\n",
       "    </tr>\n",
       "  </thead>\n",
       "  <tbody>\n",
       "    <tr>\n",
       "      <th>count</th>\n",
       "      <td>287113</td>\n",
       "      <td>287113</td>\n",
       "      <td>287113</td>\n",
       "    </tr>\n",
       "    <tr>\n",
       "      <th>unique</th>\n",
       "      <td>287113</td>\n",
       "      <td>284005</td>\n",
       "      <td>282197</td>\n",
       "    </tr>\n",
       "    <tr>\n",
       "      <th>top</th>\n",
       "      <td>0001d1afc246a7964130f43ae940af6bc6c57f01</td>\n",
       "      <td>(CNN) -- Dubai could lose its place on the Wom...</td>\n",
       "      <td>This page includes the show Transcript and the...</td>\n",
       "    </tr>\n",
       "    <tr>\n",
       "      <th>freq</th>\n",
       "      <td>1</td>\n",
       "      <td>3</td>\n",
       "      <td>83</td>\n",
       "    </tr>\n",
       "  </tbody>\n",
       "</table>\n",
       "</div>"
      ],
      "text/plain": [
       "                                              id  \\\n",
       "count                                     287113   \n",
       "unique                                    287113   \n",
       "top     0001d1afc246a7964130f43ae940af6bc6c57f01   \n",
       "freq                                           1   \n",
       "\n",
       "                                                  article  \\\n",
       "count                                              287113   \n",
       "unique                                             284005   \n",
       "top     (CNN) -- Dubai could lose its place on the Wom...   \n",
       "freq                                                    3   \n",
       "\n",
       "                                               highlights  \n",
       "count                                              287113  \n",
       "unique                                             282197  \n",
       "top     This page includes the show Transcript and the...  \n",
       "freq                                                   83  "
      ]
     },
     "execution_count": 4,
     "metadata": {},
     "output_type": "execute_result"
    }
   ],
   "source": [
    "df.describe()"
   ]
  },
  {
   "cell_type": "code",
   "execution_count": 39,
   "metadata": {},
   "outputs": [],
   "source": [
    "i = 0"
   ]
  },
  {
   "cell_type": "code",
   "execution_count": 70,
   "metadata": {},
   "outputs": [
    {
     "name": "stdout",
     "output_type": "stream",
     "text": [
      "Kabul, Afghanistan (CNN) -- China's top security official paid a surprise visit to Afghanistan, where he met with President Hamid Karzai on issues ranging from investment and bilateral trade to to terrorism and drug trafficking, China's state-run news agency said Sunday. The visit Saturday by Zhou Yongkang, a member of Communist Party's politburo, the elite group of 25 men who run China, was the first visit by a top Chinese official since 1955, Xinhua reported. Beijing kept the visit secret because of security concerns, the agency said. \"It is the consistent policy of the Chinese government and the (party) to consolidate and develop China-Afghanistan relations,\" Zhou said in a statement reported by Xinhua. Zhou also said China is willing to make \"due contributions\" to peace and stability. \"We will continue to provide assistance to Afghanistan with no attached conditions and sincerely hope the Afghan people can regain peace as soon as possible and build a better home in a peaceful environment,\" he added. Karzai and Chinese President Hu Jintao held a summit in Beijing in June. The two countries decided at the time to develop a strategic and cooperative partnership, Xinhua reported.\n"
     ]
    }
   ],
   "source": [
    "i = i + 1\n",
    "example_article = df.article[i]\n",
    "print(example_article)"
   ]
  },
  {
   "cell_type": "code",
   "execution_count": 62,
   "metadata": {},
   "outputs": [],
   "source": [
    "def remove_daily_mail_prefix(text):\n",
    "    splits = text.split(\" . \") # Daily mail often has: By . Daily Mail Reporter . Last updated etc etc . Start of real article\n",
    "    return splits[-1]"
   ]
  },
  {
   "cell_type": "code",
   "execution_count": 63,
   "metadata": {},
   "outputs": [
    {
     "data": {
      "text/plain": [
       "\"By . Daily Mail Reporter . Last updated at 1:25 AM on 3rd August 2011 . Dragons' Den star Duncan Bannatyne has shocked Twitter followers by offering £50,000 to anyone who could identify - and break the arms of - a sinister tweeter who threatened to harm his daughter. The self-made millionaire became embroiled in a row yesterday afternoon after receiving a string of anonymous threats via the micro-blogging service. The messages threatened to 'bring hurt and pain' to his family unless he handed over £35,000. Reward: Duncan Bennatyne sent out this message to his 372,000 followers . And although Mr Bannatyne later withdrew his threat, the entrepreneur said 'I'd gladly do my time' to get revenge on the anonymous tweeter. The TV star received a series of tweets from someone calling himself Yuri Vasilyev, linking to a message threatening to harm Hollie Bannatyne, 25. He responded by posting: 'I offer £25,000 reward for the capture of the coward who calls himself @YuriVasilyev_ Double if his arms are broken first'. Although this tweet was soon deleted, Mr Bannatyne posted another message saying: 'OK £30,000 reward for info leading to his arrest'. The drama began yesterday, when he . received a message from the Twitter account @YuriVasilyev_ which linked . to a message about Holly. It read: 'Dear Dragon. My name is . Yuri Vasilyev and I'm looking for a £35,000 investment to stop us . hurting your Hollie Bannatyne. We will bring hurt and pain into your . life. 'We are watching her. She is very attractive. Want photos? Tweet using the hashtag £4money to confirm payment will be made.' Threatened: Duncan Bannatyne received sinister messages threatening his daughter Hollie, right . A . later message said: 'Duncan Bannatyne - Hollie is going to get hurt. We . will bring pain and fear. You should have expected us. We are the men . of Belarus. 'We do not give up. We will stand . tall. You should have paid. £35,000 to stop it. Contact us to pay. We . are watching. Expect us. We are the men of Belarus.' Despite Vasilyev's claim to be from Belarus, Mr Bannatyne has said that he believes him to be in Moscow. His latest message to Vasilyev reads: 'Go home to your mum and cry we are closing in on you little boy'. That message was also later deleted. Mr Bannatyne's threats have met a mixed reaction from Twitter users. Many have helped to try to locate Vasilyev, although this is unlikely to be successful without tracking him down electronically, as 'Yuri Vasilyev' is a common name in Russian-speaking countries. But one user, speculating that Vasilyev was using a fake name, told Mr Bannatyne: 'Whoever the real Yuri Vasileyev is I hope hijacking his identity & ur call to vigilantes doesnt end in his injury or death.' [sic] . Mr Bannatyne said in a statement: 'My family is well protected, but I take any threat to them very seriously and will do all I can to ensure the person or people involved are caught.' Last night, police issued a statement saying: 'Durham Constabulary can confirm Duncan Bannatyne has reported a number of threatening messages he had received via email and Twitter in which threats were made against a member of his family. 'These appeared to originate from an email address based in Russia. 'We have been liaising since then with Mr Bannatyne and conducting enquiries into the credibility of these threats.' Mr Bannatyne contacted the Durham Constabulary because his family have long been based in the North East.\""
      ]
     },
     "execution_count": 63,
     "metadata": {},
     "output_type": "execute_result"
    }
   ],
   "source": [
    "example_article"
   ]
  },
  {
   "cell_type": "code",
   "execution_count": 64,
   "metadata": {},
   "outputs": [
    {
     "data": {
      "text/plain": [
       "\"Mr Bannatyne said in a statement: 'My family is well protected, but I take any threat to them very seriously and will do all I can to ensure the person or people involved are caught.' Last night, police issued a statement saying: 'Durham Constabulary can confirm Duncan Bannatyne has reported a number of threatening messages he had received via email and Twitter in which threats were made against a member of his family. 'These appeared to originate from an email address based in Russia. 'We have been liaising since then with Mr Bannatyne and conducting enquiries into the credibility of these threats.' Mr Bannatyne contacted the Durham Constabulary because his family have long been based in the North East.\""
      ]
     },
     "execution_count": 64,
     "metadata": {},
     "output_type": "execute_result"
    }
   ],
   "source": [
    "remove_daily_mail_prefix(example_article)"
   ]
  },
  {
   "cell_type": "code",
   "execution_count": 118,
   "metadata": {},
   "outputs": [
    {
     "name": "stderr",
     "output_type": "stream",
     "text": [
      "/var/folders/qp/l958tznj0_z6vbvhl3j4dsjw0000gn/T/ipykernel_47160/1313584065.py:1: UserWarning: This pattern is interpreted as a regular expression, and has match groups. To actually get the groups, use str.extract.\n",
      "  df_cnn = df[df['article'].str.contains('(CNN)')]\n"
     ]
    }
   ],
   "source": [
    "df_cnn = df[df['article'].str.contains('(CNN)')]\n",
    "df_cnn.reset_index(inplace=True)"
   ]
  },
  {
   "cell_type": "code",
   "execution_count": 103,
   "metadata": {},
   "outputs": [
    {
     "data": {
      "text/html": [
       "<div>\n",
       "<style scoped>\n",
       "    .dataframe tbody tr th:only-of-type {\n",
       "        vertical-align: middle;\n",
       "    }\n",
       "\n",
       "    .dataframe tbody tr th {\n",
       "        vertical-align: top;\n",
       "    }\n",
       "\n",
       "    .dataframe thead th {\n",
       "        text-align: right;\n",
       "    }\n",
       "</style>\n",
       "<table border=\"1\" class=\"dataframe\">\n",
       "  <thead>\n",
       "    <tr style=\"text-align: right;\">\n",
       "      <th></th>\n",
       "      <th>index</th>\n",
       "    </tr>\n",
       "  </thead>\n",
       "  <tbody>\n",
       "    <tr>\n",
       "      <th>count</th>\n",
       "      <td>83971.000000</td>\n",
       "    </tr>\n",
       "    <tr>\n",
       "      <th>mean</th>\n",
       "      <td>143012.715842</td>\n",
       "    </tr>\n",
       "    <tr>\n",
       "      <th>std</th>\n",
       "      <td>82861.000357</td>\n",
       "    </tr>\n",
       "    <tr>\n",
       "      <th>min</th>\n",
       "      <td>1.000000</td>\n",
       "    </tr>\n",
       "    <tr>\n",
       "      <th>25%</th>\n",
       "      <td>71357.500000</td>\n",
       "    </tr>\n",
       "    <tr>\n",
       "      <th>50%</th>\n",
       "      <td>142662.000000</td>\n",
       "    </tr>\n",
       "    <tr>\n",
       "      <th>75%</th>\n",
       "      <td>214390.500000</td>\n",
       "    </tr>\n",
       "    <tr>\n",
       "      <th>max</th>\n",
       "      <td>287112.000000</td>\n",
       "    </tr>\n",
       "  </tbody>\n",
       "</table>\n",
       "</div>"
      ],
      "text/plain": [
       "               index\n",
       "count   83971.000000\n",
       "mean   143012.715842\n",
       "std     82861.000357\n",
       "min         1.000000\n",
       "25%     71357.500000\n",
       "50%    142662.000000\n",
       "75%    214390.500000\n",
       "max    287112.000000"
      ]
     },
     "execution_count": 103,
     "metadata": {},
     "output_type": "execute_result"
    }
   ],
   "source": [
    "df_cnn.describe()"
   ]
  },
  {
   "cell_type": "code",
   "execution_count": 113,
   "metadata": {},
   "outputs": [
    {
     "name": "stdout",
     "output_type": "stream",
     "text": [
      "(CNN) -- Big-spending English club Manchester City moved a step closer to meeting European football's financial fairplay requirements on Friday despite posting a loss of almost $160 million for last season. City's deficit of £97.9 million ($158 million) for 2011-12's Premier League-winning campaign was just under half that of the £197.5 million ($318 million) for the previous period -- which was the biggest loss in soccer history. The latest figure represents the fourth highest deficit in the English game -- three of which belong to City since the arrival of its Abu Dhabi owners in 2008. It can be contrasted with the $37 million net profit made by rival Manchester United in 2011-12. United posted a reduced revenue of £320 million ($517 million) for that period, while City closed the gap with a club-record turnover of £231.1 million ($374 million). Both are substantially behind leading Spanish clubs Real Madrid and Barcelona. Chelsea boosted by first profit in Abramovich era . It was the first time that City had breached the £200 million ($323 million) mark, and reflects the club's attempts to become more self-sufficient and avoid possible punishment from UEFA for failing to meet FFP targets. However, owner Sheikh Mansour bin Zayed still injected £169 million ($273 million) in order to keep the club debt free. \"It is important to recognise the personal and ongoing influence of Sheikh Mansour bin Zayed on the rapid transformation that is taking place,\" said chairman Khaldoon al-Mubarak. \"The hard work of everyone involved at Manchester City over the last four years has begun to create an obvious momentum.\" Last season City won the English title for the first time since 1969, and made a debut appearance in the UEFA Champions League. Manchester United seeks to cash in as sponsor DHL is sent packing . The club's revenue would have been higher if not for a group-stage exit from Europe's top club competition -- which has been repeated already this season -- but new chief executive Ferran Soriano was satisfied with the results. He joined City in September, having previously helped transform the financial fortunes of Barcelona between 2003-08. \"What I have found is a club on the verge of a historic transformation, reinforced by a genuine commitment to doing things well. It is a club with a rich history and the potential for an even brighter future,\" he said. With the FFP rules coming into play from next season, City officials are under pressure to conform -- or face the possible expulsion from European competition and a withholding of prize money. A 10-year stadium rights deal with Etihad Airlines -- owned by Abu Dhabi's royal family -- which also includes the club's under-construction campus has considerably boosted City's balance sheet. It is building an academy to try to avoid paying over the odds for star players in the future -- the £201.8 million ($326 million) wage bill for 2011-12 made City the first English club to break £200 million in salaries, according to the Sporting Intelligence website. That equates to more than $890,000 a day. \"The City Football Academy will strengthen the club's youth development and training capabilities, enable more players to move through the Academy and Elite Development Squads into the first team in the future, while bringing all of the club's operations together on a single site within the Etihad Campus,\" Khaldoon said. \"The responsibility lies with all of us to continue the hard work that will ensure that this is only the beginning of a long and successful era for Manchester City.\"\n"
     ]
    }
   ],
   "source": [
    "i = i + 1\n",
    "example_article = df_cnn.article[i]\n",
    "print(example_article)"
   ]
  },
  {
   "cell_type": "code",
   "execution_count": 119,
   "metadata": {},
   "outputs": [],
   "source": [
    "df_cnn = df_cnn[~df_cnn['article'].str.contains(r'[^a-zA-Z0-9\\s.,;:()\\'\"-]', regex=True)]\n"
   ]
  },
  {
   "cell_type": "code",
   "execution_count": 120,
   "metadata": {},
   "outputs": [],
   "source": [
    "df_cnn['article'].to_csv('data/cnn_processed/input.txt', index=False, header=False)\n"
   ]
  },
  {
   "cell_type": "code",
   "execution_count": null,
   "metadata": {},
   "outputs": [],
   "source": []
  }
 ],
 "metadata": {
  "kernelspec": {
   "display_name": ".venv",
   "language": "python",
   "name": "python3"
  },
  "language_info": {
   "codemirror_mode": {
    "name": "ipython",
    "version": 3
   },
   "file_extension": ".py",
   "mimetype": "text/x-python",
   "name": "python",
   "nbconvert_exporter": "python",
   "pygments_lexer": "ipython3",
   "version": "3.11.5"
  }
 },
 "nbformat": 4,
 "nbformat_minor": 2
}
